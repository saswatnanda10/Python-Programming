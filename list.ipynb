{
  "cells": [
    {
      "cell_type": "markdown",
      "metadata": {
        "id": "view-in-github",
        "colab_type": "text"
      },
      "source": [
        "<a href=\"https://colab.research.google.com/github/saswatnanda10/Python-Programming/blob/main/list.ipynb\" target=\"_parent\"><img src=\"https://colab.research.google.com/assets/colab-badge.svg\" alt=\"Open In Colab\"/></a>"
      ]
    },
    {
      "cell_type": "code",
      "execution_count": null,
      "metadata": {
        "id": "wkSGe24ym6Q7"
      },
      "outputs": [],
      "source": [
        "## Tuple - immutable\n",
        "example_tuple = (2, 3, 4, 5)\n",
        "print('A tuple:', example_tuple)\n",
        "print('First element of tuple:', example_tuple[0])"
      ]
    },
    {
      "cell_type": "code",
      "execution_count": null,
      "metadata": {
        "id": "VlKcW__2m6Q-"
      },
      "outputs": [],
      "source": [
        "## List\n",
        "example_list = [2, 3, 4, 5]\n",
        "print('A list:', example_list)\n",
        "print('First element of list:', example_list[0])\n",
        "example_list.append(12)\n",
        "print('Appended list:', example_list)\n",
        "example_list[0] = 45\n",
        "print('Modified list:', example_list)"
      ]
    },
    {
      "cell_type": "code",
      "execution_count": null,
      "metadata": {
        "id": "Sb_41z1Am6Q_"
      },
      "outputs": [],
      "source": [
        "## String - immutable, tuple of characters\n",
        "text = \"ABCDEFGH\"\n",
        "print('Here is a string:', text)\n",
        "print('First character:', text[0])\n",
        "print('Number of characters in text', len(text))"
      ]
    },
    {
      "cell_type": "code",
      "execution_count": null,
      "metadata": {
        "id": "HmptGh2tm6RA"
      },
      "outputs": [],
      "source": [
        "## Set - unique unordered elements\n",
        "example_set = set([1,2,2,2,2,4,5,6,6,6])\n",
        "print('A set:', example_set)"
      ]
    },
    {
      "cell_type": "code",
      "execution_count": null,
      "metadata": {
        "id": "r5uET5Swm6RA"
      },
      "outputs": [],
      "source": [
        "## Dictionary\n",
        "example_dictionary = {\"A\": \"APPLE\", \n",
        "                      \"B\": \"BALL\", \n",
        "                      \"C\": \"CAT\", \n",
        "                      \"D\": \"DOLL\"}\n",
        "print('A dictionary:', example_dictionary)\n",
        "print('Value associated to key C:', example_dictionary['C'])"
      ]
    },
    {
      "cell_type": "code",
      "execution_count": null,
      "metadata": {
        "id": "g7lAnqeim6RB"
      },
      "outputs": [],
      "source": [
        "x = 2\n",
        "print('Is 2 < 5?', x < 5)\n",
        "print('Is 2 == 5?', x == 5)\n",
        "print('Is 2 < 5 and 2 > 1?', (x < 5) & (x > 1))\n",
        "\n",
        "if x == 2:\n",
        "    print('x is equal to 2')"
      ]
    },
    {
      "cell_type": "code",
      "execution_count": null,
      "metadata": {
        "id": "m0DCGs1Tm6RC"
      },
      "outputs": [],
      "source": [
        "example_list = ['A', 'B', 'C', 'D', 'E']\n",
        "\n",
        "## Looping through a list\n",
        "for element in example_list:\n",
        "    print(\"The element in list is:\", element)"
      ]
    }
  ],
  "metadata": {
    "celltoolbar": "Slideshow",
    "kernelspec": {
      "display_name": "Python 3",
      "language": "python",
      "name": "python3"
    },
    "language_info": {
      "codemirror_mode": {
        "name": "ipython",
        "version": 3
      },
      "file_extension": ".py",
      "mimetype": "text/x-python",
      "name": "python",
      "nbconvert_exporter": "python",
      "pygments_lexer": "ipython3",
      "version": "3.7.10"
    },
    "colab": {
      "name": "list.ipynb",
      "provenance": [],
      "include_colab_link": true
    }
  },
  "nbformat": 4,
  "nbformat_minor": 0
}