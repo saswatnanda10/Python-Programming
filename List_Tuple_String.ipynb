{
  "cells": [
    {
      "cell_type": "markdown",
      "metadata": {
        "id": "view-in-github",
        "colab_type": "text"
      },
      "source": [
        "<a href=\"https://colab.research.google.com/github/saswatnanda10/Python-Programming/blob/main/List_Tuple_String.ipynb\" target=\"_parent\"><img src=\"https://colab.research.google.com/assets/colab-badge.svg\" alt=\"Open In Colab\"/></a>"
      ]
    },
    {
      "cell_type": "code",
      "execution_count": null,
      "metadata": {
        "id": "kB5pz2YQnReh",
        "outputId": "d97ed67a-7563-47c7-a26b-5a4d0568cc17"
      },
      "outputs": [
        {
          "name": "stdout",
          "output_type": "stream",
          "text": [
            "spam\n",
            "['spam', 'eggs', 100, 1234]\n"
          ]
        }
      ],
      "source": [
        "a = ['spam', 'eggs', 100, 1234, 2*2]\n",
        "print(a[0])\n",
        "print(a[:4])"
      ]
    },
    {
      "cell_type": "code",
      "execution_count": null,
      "metadata": {
        "id": "jJ1F7_QRnRel"
      },
      "outputs": [],
      "source": [
        "a[2] = a[2] + 23"
      ]
    },
    {
      "cell_type": "code",
      "execution_count": null,
      "metadata": {
        "id": "pQtRDuu8nRem"
      },
      "outputs": [],
      "source": [
        "a[0:2] = [1,12]"
      ]
    },
    {
      "cell_type": "code",
      "execution_count": null,
      "metadata": {
        "id": "LopDmYzenRem",
        "outputId": "d6d4669c-2382-4001-a736-e46849961e64"
      },
      "outputs": [
        {
          "name": "stdout",
          "output_type": "stream",
          "text": [
            "[12, 123, 1234, 4]\n"
          ]
        }
      ],
      "source": [
        "print(a)"
      ]
    },
    {
      "cell_type": "code",
      "execution_count": null,
      "metadata": {
        "id": "Vyu10EePnRen"
      },
      "outputs": [],
      "source": [
        "a[0:1] = []"
      ]
    },
    {
      "cell_type": "code",
      "execution_count": null,
      "metadata": {
        "id": "jTF1J1VtnRen",
        "outputId": "fdc82a53-ae52-4d9a-ed0c-f655706bd265"
      },
      "outputs": [
        {
          "name": "stdout",
          "output_type": "stream",
          "text": [
            "6\n"
          ]
        }
      ],
      "source": [
        "lis = [ 1, [5, 6], 7]\n",
        "print(lis[1][1])"
      ]
    },
    {
      "cell_type": "code",
      "execution_count": null,
      "metadata": {
        "id": "Pyjjf-uNnReo"
      },
      "outputs": [],
      "source": [
        "list = range(3)"
      ]
    },
    {
      "cell_type": "code",
      "execution_count": null,
      "metadata": {
        "id": "yh0YKgv2nRep",
        "outputId": "18f3ce4b-fdc6-4c27-ff83-07fb7f9f18f0"
      },
      "outputs": [
        {
          "name": "stdout",
          "output_type": "stream",
          "text": [
            "Happy New Year: Joseph\n",
            "Happy New Year: Glenn\n",
            "Happy New Year: Sally\n"
          ]
        }
      ],
      "source": [
        "friends = ['Joseph', 'Glenn', 'Sally']\n",
        "for friend in friends :\n",
        "    print('Happy New Year:',  friend)"
      ]
    },
    {
      "cell_type": "code",
      "execution_count": null,
      "metadata": {
        "id": "xpINx29qnRep",
        "outputId": "94cd0259-a1f5-4108-b945-4a0961519d22"
      },
      "outputs": [
        {
          "name": "stdout",
          "output_type": "stream",
          "text": [
            "Happy New Year: Joseph\n",
            "Happy New Year: Glenn\n",
            "Happy New Year: Sally\n"
          ]
        }
      ],
      "source": [
        "for i in range(len(friends)) :\n",
        "    friend = friends[i]\n",
        "    print('Happy New Year:',  friend)"
      ]
    },
    {
      "cell_type": "code",
      "execution_count": null,
      "metadata": {
        "id": "wtLlNAM_nReq",
        "outputId": "0daeb897-d1ad-4c13-8e8f-6c99562a7a08"
      },
      "outputs": [
        {
          "name": "stdout",
          "output_type": "stream",
          "text": [
            "['Sally', 'Joseph', 'Glenn']\n",
            "Joseph\n"
          ]
        }
      ],
      "source": [
        "friends.sort(reverse=True)\n",
        "print(friends)\n",
        "print(friends[1])"
      ]
    },
    {
      "cell_type": "code",
      "execution_count": null,
      "metadata": {
        "id": "Mr_iOYc-nRer"
      },
      "outputs": [],
      "source": [
        "friends.sort(reverse=True)\n",
        "print(friends)\n",
        "print(friends[1])"
      ]
    },
    {
      "cell_type": "code",
      "execution_count": null,
      "metadata": {
        "id": "VvgRTKJJnRer",
        "outputId": "c7c13e01-909c-4919-8e65-64463b00e24c"
      },
      "outputs": [
        {
          "data": {
            "text/plain": [
              "[15, 3, 41]"
            ]
          },
          "execution_count": 17,
          "metadata": {},
          "output_type": "execute_result"
        }
      ],
      "source": [
        "t = [9, 41, 12, 3, 74, 15]\n",
        "t[::-2]"
      ]
    },
    {
      "cell_type": "code",
      "execution_count": null,
      "metadata": {
        "id": "_r3wkJ7bnRes",
        "outputId": "592fb5d6-15f6-4249-b653-3907b4c19a2f"
      },
      "outputs": [
        {
          "name": "stdout",
          "output_type": "stream",
          "text": [
            "['book', 99]\n",
            "['book', 99, 'cookie']\n"
          ]
        }
      ],
      "source": [
        "stuff = list()\n",
        "stuff.append('book')\n",
        "stuff.append(99)\n",
        "print(stuff)\n",
        "stuff.append('cookie')\n",
        "print(stuff)"
      ]
    },
    {
      "cell_type": "code",
      "execution_count": null,
      "metadata": {
        "id": "fcX-FwlbnRes",
        "outputId": "e7deede2-260b-4795-bc0e-3a8b52c643ec"
      },
      "outputs": [
        {
          "name": "stdout",
          "output_type": "stream",
          "text": [
            "banana\n"
          ]
        }
      ],
      "source": [
        "fruit = 'Banana'\n",
        "#fruit[0] = 'b'\n",
        "x = fruit.lower()\n",
        "print(x)"
      ]
    },
    {
      "cell_type": "code",
      "execution_count": null,
      "metadata": {
        "id": "3f44NvVUnRet"
      },
      "outputs": [],
      "source": [
        "total = 0\n",
        "count = 0\n",
        "while True :\n",
        "    inp = input('Enter a number: ')\n",
        "    if inp == 'done' : \n",
        "        break\n",
        "    value = float(inp)\n",
        "    total = total + value     \n",
        "    count = count + 1\n",
        "average = total / count\n",
        "print('Average:', average)"
      ]
    },
    {
      "cell_type": "code",
      "execution_count": null,
      "metadata": {
        "id": "yu6DJ2HOnRet",
        "outputId": "826d7c2d-5bcd-4b0d-fb74-8c951c208514"
      },
      "outputs": [
        {
          "name": "stdout",
          "output_type": "stream",
          "text": [
            "6\n",
            "74\n",
            "3\n",
            "154\n",
            "25.666666666666668\n"
          ]
        }
      ],
      "source": [
        "nums = [3, 41, 12, 9, 74, 15]\n",
        "print(len(nums))\n",
        "print(max(nums))\n",
        "print(min(nums))\n",
        "print(sum(nums))\n",
        "print(sum(nums)/len(nums))"
      ]
    },
    {
      "cell_type": "code",
      "execution_count": null,
      "metadata": {
        "id": "ty24-I_CnReu"
      },
      "outputs": [],
      "source": [
        "abc = 'With three words'\n",
        "stuff = abc.split('h')\n",
        "print(stuff)\n",
        "print(len(stuff))\n",
        "print(stuff[0])"
      ]
    },
    {
      "cell_type": "code",
      "execution_count": null,
      "metadata": {
        "id": "RLszBiqZnReu"
      },
      "outputs": [],
      "source": [
        "line = 'From salman.amir@gmail.com Sat Jan  5 09:14:16 2020'\n",
        "words = line.split()\n",
        "print(words)\n",
        "email = words[1]\n",
        "print(email)\n",
        "pieces = email.split('@')\n",
        "print(pieces[1])"
      ]
    },
    {
      "cell_type": "code",
      "execution_count": null,
      "metadata": {
        "id": "3Jb78mf0nReu"
      },
      "outputs": [],
      "source": [
        "d = { \"foo\" : 1, \"bar\" : 2 }\n",
        "print(d[\"bar\"])   # 2\n",
        "some_dict = {}\n",
        "some_dict[\"foo\"] = \"yow!\"\n",
        "some_dict[\"bar\"] = \"Dog!\"\n",
        "print(some_dict.keys()) # [\"foo\"]"
      ]
    },
    {
      "cell_type": "code",
      "execution_count": null,
      "metadata": {
        "id": "FfbnmCOqnRev"
      },
      "outputs": [],
      "source": [
        "list"
      ]
    },
    {
      "cell_type": "code",
      "execution_count": null,
      "metadata": {
        "id": "G8wBDWgTnRev"
      },
      "outputs": [],
      "source": [
        "friends = ['Joseph', 'Glenn', 'Sally']\n",
        "for friend in friends :\n",
        "    print('Happy New Year:',  friend)\n"
      ]
    },
    {
      "cell_type": "code",
      "execution_count": null,
      "metadata": {
        "id": "gVWZ169VnRev"
      },
      "outputs": [],
      "source": [
        "for i in range(len(friends)) :\n",
        "    print(len(friends))\n",
        "    print(i)\n",
        "    friend = friends[i]\n",
        "    print('Happy New Year:',  friend)"
      ]
    },
    {
      "cell_type": "code",
      "execution_count": null,
      "metadata": {
        "id": "9dTiZ3dfnRew",
        "outputId": "b525710d-c8d2-4e4d-c90c-20c227b46f14"
      },
      "outputs": [
        {
          "name": "stdout",
          "output_type": "stream",
          "text": [
            "Enter a number: 10\n",
            "Enter a number: 20\n",
            "Enter a number: 40\n",
            "Enter a number: 60\n",
            "Enter a number: done\n"
          ]
        }
      ],
      "source": [
        "total = 0\n",
        "count = 0\n",
        "while True :\n",
        "    inp = input('Enter a number: ')\n",
        "    if inp == 'done' : \n",
        "        break\n",
        "    value = float(inp)\n",
        "    total = total + value     \n",
        "    count = count + 1"
      ]
    },
    {
      "cell_type": "code",
      "execution_count": null,
      "metadata": {
        "id": "CScyJM45nRew",
        "outputId": "99aafd02-67c5-41c7-cfc8-0696b8847136"
      },
      "outputs": [
        {
          "name": "stdout",
          "output_type": "stream",
          "text": [
            "4\n"
          ]
        }
      ],
      "source": [
        "print(count)"
      ]
    },
    {
      "cell_type": "code",
      "execution_count": null,
      "metadata": {
        "id": "cyLB4vZdnRew",
        "outputId": "49937097-18c2-47b8-cb79-bf07ee9c3ad4"
      },
      "outputs": [
        {
          "name": "stdout",
          "output_type": "stream",
          "text": [
            "130.0\n",
            "Average: 32.5\n"
          ]
        }
      ],
      "source": [
        "print(total)\n",
        "average = total / count\n",
        "print('Average:', average)"
      ]
    },
    {
      "cell_type": "code",
      "execution_count": null,
      "metadata": {
        "id": "KxrhTGADnRex",
        "outputId": "e731ffbf-b9a9-4034-cc08-42c8572b36a0"
      },
      "outputs": [
        {
          "data": {
            "text/plain": [
              "['From', 'salman.amir@gmail.com', 'Sat', 'Jan', '5', '09:14:16', '2020']"
            ]
          },
          "execution_count": 1,
          "metadata": {},
          "output_type": "execute_result"
        }
      ],
      "source": [
        "line = 'From salman.amir@gmail.com Sat Jan  5 09:14:16 2020'\n",
        "words = line.split()\n",
        "words"
      ]
    },
    {
      "cell_type": "code",
      "execution_count": null,
      "metadata": {
        "id": "6XVujHG_nRex",
        "outputId": "abc55bac-c7bf-43cf-e4d7-a63258d83ae1"
      },
      "outputs": [
        {
          "name": "stdout",
          "output_type": "stream",
          "text": [
            "salman.amir@gmail.com\n"
          ]
        }
      ],
      "source": [
        "email = words[1]\n",
        "print(email)"
      ]
    },
    {
      "cell_type": "code",
      "execution_count": null,
      "metadata": {
        "id": "xeD96Co1nRex",
        "outputId": "eba91e9b-3f08-48d6-9468-f2411f19ed4f"
      },
      "outputs": [
        {
          "name": "stdout",
          "output_type": "stream",
          "text": [
            "gmail.com\n"
          ]
        }
      ],
      "source": [
        "pieces = email.split('@')\n",
        "print(pieces[1])"
      ]
    },
    {
      "cell_type": "code",
      "execution_count": null,
      "metadata": {
        "id": "aCa6Dt7PnRex",
        "outputId": "8b944384-3a3b-4e82-c6fc-820218fc635b"
      },
      "outputs": [
        {
          "name": "stdout",
          "output_type": "stream",
          "text": [
            "(123, 54, 92)\n",
            "()\n",
            "('Ala',)\n",
            "(2, 3, False, 'Arg', None)\n"
          ]
        }
      ],
      "source": [
        "a = (123, 54, 92) # tuple of 3 integers\n",
        "b = () # empty tuple\n",
        "c = (\"Ala\",) # tuple of a single string (note the trailing \",\")\n",
        "d = (2, 3, False, \"Arg\", None) # a tuple of mixed types\n",
        "\n",
        "print(a)\n",
        "print(b)\n",
        "print(c)\n",
        "print(d)"
      ]
    },
    {
      "cell_type": "code",
      "execution_count": null,
      "metadata": {
        "id": "bm8snoQnnRey",
        "outputId": "fa515d6e-0b53-4cc7-cf62-0fe783d4775a"
      },
      "outputs": [
        {
          "name": "stdout",
          "output_type": "stream",
          "text": [
            "(1.2, -0.3, 0.9)\n"
          ]
        }
      ],
      "source": [
        "x = 1.2\n",
        "y = -0.3\n",
        "z = 0.9\n",
        "t = (x, y, z)\n",
        "\n",
        "print(t)"
      ]
    },
    {
      "cell_type": "code",
      "execution_count": null,
      "metadata": {
        "id": "M7GzIMcVnRey",
        "outputId": "9f24a07d-953d-429c-ce19-4d3fde7361fe"
      },
      "outputs": [
        {
          "name": "stdout",
          "output_type": "stream",
          "text": [
            "t is (2, 3, 'Hi', [1, 2, 3])\n",
            "x is 2\n",
            "y is 3\n",
            "z is Hi\n",
            "a is [1, 2, 3]\n"
          ]
        }
      ],
      "source": [
        "l = 2, 3, \"Hi\", [1,2,3] # tuple packing\n",
        "print('t is', l)\n",
        "x, y, z, a = l # tuple unpacking\n",
        "print('x is', x)\n",
        "print('y is', y)\n",
        "print('z is', z)\n",
        "print('a is', a)"
      ]
    },
    {
      "cell_type": "code",
      "execution_count": null,
      "metadata": {
        "id": "0rqAKN_BnRey",
        "outputId": "46e0c89c-c913-4d0c-8904-a37b7c665f82"
      },
      "outputs": [
        {
          "name": "stdout",
          "output_type": "stream",
          "text": [
            "<class 'tuple'>\n"
          ]
        }
      ],
      "source": [
        "print(type(l))"
      ]
    },
    {
      "cell_type": "code",
      "execution_count": null,
      "metadata": {
        "id": "JexEV3L4nRey",
        "outputId": "3c2e6583-3fef-49b4-9a01-65e09421305e"
      },
      "outputs": [
        {
          "data": {
            "text/plain": [
              "[1, 2, 3]"
            ]
          },
          "execution_count": 11,
          "metadata": {},
          "output_type": "execute_result"
        }
      ],
      "source": [
        "l[3]"
      ]
    },
    {
      "cell_type": "code",
      "execution_count": null,
      "metadata": {
        "id": "A3gAm8BEnRez",
        "outputId": "ddabb201-3566-49d5-976a-797e5ac9e410"
      },
      "outputs": [
        {
          "name": "stdout",
          "output_type": "stream",
          "text": [
            "[1, 3, 9, 'Py', 217.213]\n",
            "['Python']\n",
            "[]\n"
          ]
        }
      ],
      "source": [
        "a = [1, 3, 9, 'Py', 217.213]\n",
        "b = [\"Python\"]\n",
        "c = []\n",
        "\n",
        "print(a)\n",
        "print(b)\n",
        "print(c)"
      ]
    },
    {
      "cell_type": "code",
      "execution_count": null,
      "metadata": {
        "id": "otWF0YJXnRez",
        "outputId": "1903142d-fa93-4122-a691-ca0665575f79"
      },
      "outputs": [
        {
          "name": "stdout",
          "output_type": "stream",
          "text": [
            "12\n",
            "hi\n",
            "i23\n",
            "---\n",
            "[['12', 'hi'], ['i23', '---']]\n"
          ]
        }
      ],
      "source": [
        "matrix = [[input(),input()], [input(),input()]]\n",
        "print(matrix)"
      ]
    },
    {
      "cell_type": "code",
      "execution_count": null,
      "metadata": {
        "id": "XwFOKSqMnRez",
        "outputId": "6598c1a7-f9e7-46ed-e96a-8e27d2d5bec3"
      },
      "outputs": [
        {
          "name": "stdout",
          "output_type": "stream",
          "text": [
            "(1, 4, 9, 16)\n",
            "['A', 'B', 'C', 'd']\n",
            "[1, 4, 9, 16]\n",
            "('A', 'B', 'C', 'd')\n"
          ]
        }
      ],
      "source": [
        "a = (1, 4, 9, 16)     # A tuple of numbers\n",
        "b = ['A','B','C','d'] # A list of characters\n",
        "print(a)\n",
        "print(b)\n",
        "l = list(a)   # Make a list based on a tuple \n",
        "print(l)\n",
        "t = tuple(b)  # Make a tuple based on a list\n",
        "print(t)"
      ]
    },
    {
      "cell_type": "code",
      "execution_count": null,
      "metadata": {
        "id": "TVjVib9InRez",
        "outputId": "f84fbe19-5ab9-41a1-b00e-6b9b894d2603"
      },
      "outputs": [
        {
          "name": "stdout",
          "output_type": "stream",
          "text": [
            "1361258827928\n",
            "1361258854152\n",
            "1361258254088\n",
            "1361258755080\n"
          ]
        }
      ],
      "source": [
        "print(id(a))\n",
        "print(id(l))\n",
        "print(id(b))\n",
        "print(id(t))"
      ]
    },
    {
      "cell_type": "code",
      "execution_count": null,
      "metadata": {
        "id": "HQsueMd5nRe0",
        "outputId": "7a405dda-e4a4-4590-a655-1206f70bab85"
      },
      "outputs": [
        {
          "name": "stdout",
          "output_type": "stream",
          "text": [
            "t is (123, 54, 92, 87, 33)\n",
            "t[0] is 123\n",
            "t[2] is 92\n",
            "x is [123, 54, 92, 87, 33]\n",
            "x[-1] is 33\n"
          ]
        }
      ],
      "source": [
        "t = (123, 54, 92, 87, 33)\n",
        "x = [123, 54, 92, 87, 33]\n",
        "\n",
        "print('t is', t)\n",
        "print('t[0] is', t[0])\n",
        "print('t[2] is', t[2])\n",
        "\n",
        "print('x is', x)\n",
        "print('x[-1] is', x[-1])"
      ]
    },
    {
      "cell_type": "code",
      "execution_count": null,
      "metadata": {
        "id": "CCP2NAXLnRe0",
        "outputId": "f4be7a43-edbd-448a-de8b-152d6d8c0507"
      },
      "outputs": [
        {
          "name": "stdout",
          "output_type": "stream",
          "text": [
            "t[1:3] is (54, 92)\n",
            "x[2:] is [92, 87, 33]\n",
            "x[:-1] is [123, 54, 92, 87]\n"
          ]
        }
      ],
      "source": [
        "t = (123, 54, 92, 87, 33)\n",
        "x = [123, 54, 92, 87, 33]\n",
        "print('t[1:3] is', t[1:3])\n",
        "print('x[2:] is', x[2:])\n",
        "print('x[:-1] is', x[:-1])"
      ]
    },
    {
      "cell_type": "code",
      "execution_count": null,
      "metadata": {
        "id": "nJTXax2-nRe0",
        "outputId": "06f4a5c9-ac0f-4a56-81e1-490dc18072c5"
      },
      "outputs": [
        {
          "name": "stdout",
          "output_type": "stream",
          "text": [
            "123 in [123, 54, 92, 87, 33] True\n",
            "234 in (123, 54, 92, 87, 33) False\n",
            "999 not in [123, 54, 92, 87, 33] True\n"
          ]
        }
      ],
      "source": [
        "t = (123, 54, 92, 87, 33)\n",
        "x = [123, 54, 92, 87, 33]\n",
        "print('123 in', x, 123 in x)\n",
        "print('234 in', t, 234 in t)\n",
        "print('999 not in', x, 999 not in x)"
      ]
    },
    {
      "cell_type": "code",
      "execution_count": null,
      "metadata": {
        "id": "yDhsOyZonRe0",
        "outputId": "3367359f-3e6b-48ec-fcbf-58e1c89cab2e"
      },
      "outputs": [
        {
          "data": {
            "text/plain": [
              "[3, 4, 5]"
            ]
          },
          "execution_count": 19,
          "metadata": {},
          "output_type": "execute_result"
        }
      ],
      "source": [
        "a = [1, 2, 3, 4, 5]\n",
        "\n",
        "a[2:]"
      ]
    },
    {
      "cell_type": "code",
      "execution_count": null,
      "metadata": {
        "id": "HYVKGUELnRe1",
        "outputId": "73f4704b-c955-4522-f4a8-bbd00b644478"
      },
      "outputs": [
        {
          "name": "stdout",
          "output_type": "stream",
          "text": [
            "length of t is 5\n",
            "number of 33s in x is 1\n"
          ]
        }
      ],
      "source": [
        "t = (123, 54, 92, 87, 33)\n",
        "x = [123, 54, 92, 87, 33]\n",
        "print(\"length of t is\", len(t))\n",
        "print(\"number of 33s in x is\", x.count(33))"
      ]
    },
    {
      "cell_type": "code",
      "execution_count": null,
      "metadata": {
        "id": "C8Jtn7XKnRe1",
        "outputId": "f5c1162c-c212-4dcf-b72b-be77e448f857"
      },
      "outputs": [
        {
          "name": "stdout",
          "output_type": "stream",
          "text": [
            "[123, 54, 92, 87, 33]\n",
            "[123, 54, 33, 87, 33]\n"
          ]
        }
      ],
      "source": [
        "x = [123, 54, 92, 87, 33]\n",
        "print(x)\n",
        "x[2] = 33\n",
        "print(x)"
      ]
    },
    {
      "cell_type": "code",
      "execution_count": null,
      "metadata": {
        "id": "2qRJbkO4nRe1",
        "outputId": "392c6b20-224d-4278-b08d-e1254aa75b47"
      },
      "outputs": [
        {
          "name": "stdout",
          "output_type": "stream",
          "text": [
            "(123, 54, 92, 87, 33)\n"
          ]
        },
        {
          "ename": "TypeError",
          "evalue": "'tuple' object does not support item assignment",
          "output_type": "error",
          "traceback": [
            "\u001b[1;31m---------------------------------------------------------------------------\u001b[0m",
            "\u001b[1;31mTypeError\u001b[0m                                 Traceback (most recent call last)",
            "\u001b[1;32m<ipython-input-22-8b8ecaf23c21>\u001b[0m in \u001b[0;36m<module>\u001b[1;34m\u001b[0m\n\u001b[0;32m      1\u001b[0m \u001b[0mt\u001b[0m \u001b[1;33m=\u001b[0m \u001b[1;33m(\u001b[0m\u001b[1;36m123\u001b[0m\u001b[1;33m,\u001b[0m \u001b[1;36m54\u001b[0m\u001b[1;33m,\u001b[0m \u001b[1;36m92\u001b[0m\u001b[1;33m,\u001b[0m \u001b[1;36m87\u001b[0m\u001b[1;33m,\u001b[0m \u001b[1;36m33\u001b[0m\u001b[1;33m)\u001b[0m\u001b[1;33m\u001b[0m\u001b[1;33m\u001b[0m\u001b[0m\n\u001b[0;32m      2\u001b[0m \u001b[0mprint\u001b[0m\u001b[1;33m(\u001b[0m\u001b[0mt\u001b[0m\u001b[1;33m)\u001b[0m\u001b[1;33m\u001b[0m\u001b[1;33m\u001b[0m\u001b[0m\n\u001b[1;32m----> 3\u001b[1;33m \u001b[0mt\u001b[0m\u001b[1;33m[\u001b[0m\u001b[1;36m1\u001b[0m\u001b[1;33m]\u001b[0m \u001b[1;33m=\u001b[0m \u001b[1;36m4\u001b[0m\u001b[1;33m\u001b[0m\u001b[1;33m\u001b[0m\u001b[0m\n\u001b[0m",
            "\u001b[1;31mTypeError\u001b[0m: 'tuple' object does not support item assignment"
          ]
        }
      ],
      "source": [
        "t = (123, 54, 92, 87, 33)\n",
        "print(t)\n",
        "t[1] = 4"
      ]
    },
    {
      "cell_type": "code",
      "execution_count": null,
      "metadata": {
        "id": "D5wPk1yYnRe1",
        "outputId": "2166864e-7479-4e93-9bb1-87203db41119"
      },
      "outputs": [
        {
          "name": "stdout",
          "output_type": "stream",
          "text": [
            "[123, 54, 92, 87, 33, 101]\n"
          ]
        }
      ],
      "source": [
        "x = [123, 54, 92, 87, 33]\n",
        "x.append(101)\n",
        "print(x)"
      ]
    },
    {
      "cell_type": "code",
      "execution_count": null,
      "metadata": {
        "id": "vlJnbW58nRe1",
        "outputId": "4eb2b8e6-2638-4ff8-f44a-66f4ab63e914"
      },
      "outputs": [
        {
          "name": "stdout",
          "output_type": "stream",
          "text": [
            "[123, 54, 92, 1111, 87, 33]\n"
          ]
        }
      ],
      "source": [
        "x = [123, 54, 92, 87, 33]\n",
        "x.insert(3, 1111)\n",
        "print(x)"
      ]
    },
    {
      "cell_type": "code",
      "execution_count": null,
      "metadata": {
        "id": "JFuqy9VYnRe2",
        "outputId": "aac05d98-1dc2-4c3b-998b-4b3fa0ccb114"
      },
      "outputs": [
        {
          "name": "stdout",
          "output_type": "stream",
          "text": [
            "[54, 92, 87, 33]\n"
          ]
        }
      ],
      "source": [
        "x = [123, 54, 92, 87, 33]\n",
        "x.remove(123)\n",
        "print(x)"
      ]
    },
    {
      "cell_type": "code",
      "execution_count": null,
      "metadata": {
        "id": "sxsnxUcRnRe2",
        "outputId": "86b819c1-0b8d-44aa-e186-6dddca7f5f34"
      },
      "outputs": [
        {
          "name": "stdout",
          "output_type": "stream",
          "text": [
            "[123, 54, 92, 87, 33]\n",
            "[54, 92, 87, 33]\n"
          ]
        }
      ],
      "source": [
        "x = [123, 54, 92, 87, 33]\n",
        "print(x)\n",
        "del x[0]\n",
        "print(x)"
      ]
    },
    {
      "cell_type": "code",
      "execution_count": null,
      "metadata": {
        "id": "CbvEeCcdnRe2",
        "outputId": "c04acfb2-b040-46da-d8bf-5310bd1e3aa4"
      },
      "outputs": [
        {
          "name": "stdout",
          "output_type": "stream",
          "text": [
            "[1, 2, 3, 4, 5, 6]\n",
            "[1, 2, 3, 4, 5, 6, [4, 5, 6]]\n",
            "[1, 2, 3, 4, 5, 6, [4, 5, 6], 'Hi']\n"
          ]
        }
      ],
      "source": [
        "a = [1,2,3]\n",
        "b = [4,5,6]\n",
        "c = \"Hi\"\n",
        "a.extend(b)\n",
        "print(a)\n",
        "a.append(b)\n",
        "print(a)\n",
        "a.append(c)\n",
        "print(a)"
      ]
    },
    {
      "cell_type": "code",
      "execution_count": null,
      "metadata": {
        "id": "cJu2jGHunRe2",
        "outputId": "1076536e-0cf8-425a-870a-e8909bc43b40"
      },
      "outputs": [
        {
          "name": "stdout",
          "output_type": "stream",
          "text": [
            "[1, 2, 3, 4, 5, 6]\n"
          ]
        }
      ],
      "source": [
        "a = [1, 2, 3]\n",
        "b = [4, 5, 6]\n",
        "a = a + b\n",
        "print(a)"
      ]
    },
    {
      "cell_type": "code",
      "execution_count": null,
      "metadata": {
        "id": "WdChi1RCnRe2",
        "outputId": "f3e787e1-586a-45ab-97ed-82bd99c1ecc3"
      },
      "outputs": [
        {
          "name": "stdout",
          "output_type": "stream",
          "text": [
            "[1, ([9, 9, 9, 9], [9, 9, 9, 9], [9, 9, 9, 9], [9, 9, 9, 9]), 3, 4, 5, 6]\n"
          ]
        }
      ],
      "source": [
        "a = [1, 2, 3, 4, 5, 6]\n",
        "a[1] = [9, 9, 9, 9],[9, 9, 9, 9],[9, 9, 9, 9],[9, 9, 9, 9]\n",
        "print(a)"
      ]
    },
    {
      "cell_type": "code",
      "execution_count": null,
      "metadata": {
        "id": "Rvd4yp42nRe3"
      },
      "outputs": [],
      "source": [
        "x,y,z = 10,20,30"
      ]
    },
    {
      "cell_type": "code",
      "execution_count": null,
      "metadata": {
        "id": "WC0nLhAYnRe3",
        "outputId": "192843db-64c7-4f51-b11a-b9a153e49859"
      },
      "outputs": [
        {
          "name": "stdout",
          "output_type": "stream",
          "text": [
            "[2, 4, 6, 5, 3, 1]\n",
            "[1, 2, 3, 4, 5, 6]\n",
            "None\n"
          ]
        }
      ],
      "source": [
        "a = [1, 3, 5,6, 4, 2]\n",
        "a.reverse()\n",
        "print(a)\n",
        "b = []\n",
        "b = a.sort()\n",
        "print(a)\n",
        "print(b)"
      ]
    },
    {
      "cell_type": "code",
      "execution_count": null,
      "metadata": {
        "id": "lMhYq-jDnRe3",
        "outputId": "44e9b5ea-0790-498c-dbc5-2add90a7bbe4"
      },
      "outputs": [
        {
          "name": "stdout",
          "output_type": "stream",
          "text": [
            "[2, 5, 7, 1]\n",
            "[1, 2, 5, 7]\n"
          ]
        }
      ],
      "source": [
        "a = [2, 5, 7, 1]\n",
        "b = sorted(a)\n",
        "print(a)\n",
        "print(b)"
      ]
    },
    {
      "cell_type": "code",
      "execution_count": null,
      "metadata": {
        "id": "z6C1VvdEnRe3",
        "outputId": "d57b5321-8545-454d-85fa-cfe83716e1ca"
      },
      "outputs": [
        {
          "name": "stdout",
          "output_type": "stream",
          "text": [
            "A\n",
            "G\n",
            "ABCDEF\n",
            "True\n",
            "False\n",
            "8\n"
          ]
        }
      ],
      "source": [
        "text = \"ABCDEFGH\"\n",
        "print(text[0])\n",
        "print(text[-2])\n",
        "print(text[0:6])\n",
        "print(\"EFG\" in text)\n",
        "print(\"ABBC\" in text)\n",
        "print(len(text))"
      ]
    },
    {
      "cell_type": "code",
      "execution_count": null,
      "metadata": {
        "id": "he1cn8JUnRe3",
        "outputId": "583c45e1-f368-416a-8284-76bcc5156b3c"
      },
      "outputs": [
        {
          "ename": "TypeError",
          "evalue": "'str' object does not support item assignment",
          "output_type": "error",
          "traceback": [
            "\u001b[1;31m---------------------------------------------------------------------------\u001b[0m",
            "\u001b[1;31mTypeError\u001b[0m                                 Traceback (most recent call last)",
            "\u001b[1;32m<ipython-input-8-578c70ad8e93>\u001b[0m in \u001b[0;36m<module>\u001b[1;34m\u001b[0m\n\u001b[0;32m      1\u001b[0m \u001b[0mtext\u001b[0m \u001b[1;33m=\u001b[0m \u001b[1;34m\"ABCDEFGH\"\u001b[0m\u001b[1;33m\u001b[0m\u001b[1;33m\u001b[0m\u001b[0m\n\u001b[1;32m----> 2\u001b[1;33m \u001b[0mtext\u001b[0m\u001b[1;33m[\u001b[0m\u001b[1;36m0\u001b[0m\u001b[1;33m:\u001b[0m\u001b[1;36m2\u001b[0m\u001b[1;33m]\u001b[0m \u001b[1;33m=\u001b[0m \u001b[1;34m\"CCC\"\u001b[0m\u001b[1;33m\u001b[0m\u001b[1;33m\u001b[0m\u001b[0m\n\u001b[0m",
            "\u001b[1;31mTypeError\u001b[0m: 'str' object does not support item assignment"
          ]
        }
      ],
      "source": [
        "text = \"ABCDEFGH\"\n",
        "text[0:2] = \"CCC\" "
      ]
    },
    {
      "cell_type": "code",
      "execution_count": null,
      "metadata": {
        "id": "PFrrQd26nRe4",
        "outputId": "2d49e7ae-19b2-4f66-e795-f240eb897cb0"
      },
      "outputs": [
        {
          "name": "stdout",
          "output_type": "stream",
          "text": [
            "CDE is at position: 2\n",
            "CDE is at position: 8\n",
            "The last C is at position: 8\n"
          ]
        }
      ],
      "source": [
        "string = \"ABCDEDCBCDEA\"\n",
        "index = string.find(\"CDE\")\n",
        "print(\"CDE is at position:\", index)\n",
        "index = string.rfind(\"CDE\")\n",
        "print(\"CDE is at position:\", index)\n",
        "index = string.rfind('C')\n",
        "print(\"The last C is at position:\", index)"
      ]
    },
    {
      "cell_type": "code",
      "execution_count": null,
      "metadata": {
        "id": "k75UW-NtnRe4",
        "outputId": "2ce03f93-d199-4116-bbe4-0abff3dbbf7f"
      },
      "outputs": [
        {
          "name": "stdout",
          "output_type": "stream",
          "text": [
            "27 .      My name is Python      .\n",
            "22 .      My name is Python .\n",
            "22 . My name is Python      .\n",
            "17 . My name is Python .\n"
          ]
        }
      ],
      "source": [
        "s = \"     My name is Python     \"\n",
        "print(len(s), \".\", s, \".\")\n",
        "print(len(s.rstrip()), \".\", s.rstrip(), \".\")\n",
        "print(len(s.lstrip()), \".\", s.lstrip(), \".\")\n",
        "print(len(s.strip()), \".\", s.strip(),\".\")"
      ]
    },
    {
      "cell_type": "code",
      "execution_count": null,
      "metadata": {
        "id": "h-j_JxRGnRe4"
      },
      "outputs": [],
      "source": [
        "string = \"My name is Python\"\n",
        "words = string.split(\" \")\n",
        "print(words)\n",
        "\n",
        "letters = list(string) # a tuple of character converted into a list\n",
        "print(letters)"
      ]
    },
    {
      "cell_type": "code",
      "execution_count": null,
      "metadata": {
        "id": "QUsftJxJnRe4"
      },
      "outputs": [],
      "source": [
        "string = \"My name is Python\"\n",
        "words = string.split(\" \")\n",
        "print(words)\n",
        "print(\"|\".join(words))"
      ]
    },
    {
      "cell_type": "code",
      "execution_count": null,
      "metadata": {
        "id": "RNEUof4RnRe4"
      },
      "outputs": [],
      "source": [
        "language = \"Python\"\n",
        "version = 3.6\n",
        "print(language + str(version))"
      ]
    },
    {
      "cell_type": "code",
      "execution_count": null,
      "metadata": {
        "id": "zRVWtoRlnRe5"
      },
      "outputs": [],
      "source": [
        "l = [1, 2, 3, 2, 3] # list of 5 values\n",
        "s = set(l) # set of 3 unique values\n",
        "print(s)\n",
        "e = set() # empty set\n",
        "print(e)"
      ]
    },
    {
      "cell_type": "code",
      "execution_count": null,
      "metadata": {
        "id": "rE0EB3JmnRe5"
      },
      "outputs": [],
      "source": [
        "s = set([1, 2, 3, 2, 3])\n",
        "print(s)\n",
        "print(\"number in set:\", len(s))\n",
        "s.add(4)\n",
        "print(s)\n",
        "s.add(3)\n",
        "print(s)"
      ]
    },
    {
      "cell_type": "code",
      "execution_count": null,
      "metadata": {
        "id": "TaOzNLr-nRe5"
      },
      "outputs": [],
      "source": [
        "s = set([1, 2, 3, 2, 3])\n",
        "print(s)\n",
        "s.remove(3)\n",
        "print(s)"
      ]
    },
    {
      "cell_type": "code",
      "execution_count": null,
      "metadata": {
        "id": "9Srr5spcnRe5"
      },
      "outputs": [],
      "source": [
        "s1 = set([2, 4, 6, 8, 10])\n",
        "s2 = set([4, 5, 6, 7])\n",
        "\n",
        "print(\"Union:\", s1 | s2)\n",
        "print(\"Intersection:\", s1 & s2)"
      ]
    },
    {
      "cell_type": "code",
      "execution_count": null,
      "metadata": {
        "id": "p33nO3ainRe5"
      },
      "outputs": [],
      "source": [
        "sports = {\"A\": \"Cricket\", \"B\": \"Football\", \"C\": \"Hockey\", \"D\": \"Badminton\"}\n",
        "print(sports)\n",
        "\n",
        "sports['C']"
      ]
    },
    {
      "cell_type": "code",
      "execution_count": null,
      "metadata": {
        "id": "2TQ_ooOZnRe5"
      },
      "outputs": [],
      "source": [
        "sports = {\"A\": \"Cricket\", \"B\": \"Football\", \"C\": \"Hockey\", \"D\": \"Badminton\"}\n",
        "print(\"A represents\", sports[\"A\"])\n",
        "print(\"G represents\", sports[\"G\"])"
      ]
    },
    {
      "cell_type": "code",
      "execution_count": null,
      "metadata": {
        "id": "PjBAfkevnRe6"
      },
      "outputs": [],
      "source": [
        "sports = {\"A\": \"Cricket\", \"B\": \"Football\", \"C\": \"Hockey\", \"D\": \"Badminton\"}\n",
        "print(\"What about N?\", sports[\"N\"])"
      ]
    },
    {
      "cell_type": "code",
      "execution_count": null,
      "metadata": {
        "id": "7fTbEVzhnRe6"
      },
      "outputs": [],
      "source": [
        "sports = {\"A\": \"Cricket\", \"B\": \"Football\", \"C\": \"Hockey\", \"D\": \"Badminton\"}\n",
        "print(\"What about N?\", sports.get(\"N\"))\n",
        "print(\"With a default value:\", sports.get(\"N\", \"asfasfasf\"))"
      ]
    },
    {
      "cell_type": "code",
      "execution_count": null,
      "metadata": {
        "id": "y4FGW0ElnRe6"
      },
      "outputs": [],
      "source": [
        "sports = {\"A\": \"Cricket\", \"B\": \"Football\", \"C\": \"Hockey\", \"D\": \"Badminton\"}\n",
        "\"T\" in sports"
      ]
    },
    {
      "cell_type": "code",
      "execution_count": null,
      "metadata": {
        "id": "db7pRxIsnRe6"
      },
      "outputs": [],
      "source": [
        "sports = {\"A\": \"Cricket\", \"B\": \"Football\", \"C\": \"Hockey\", \"D\": \"Badminton\"}\n",
        "\"Y\" not in sports"
      ]
    },
    {
      "cell_type": "code",
      "execution_count": null,
      "metadata": {
        "id": "t-HR1EicnRe6"
      },
      "outputs": [],
      "source": [
        "sports = {\"A\": \"Cricket\", \"B\": \"Football\", \"C\": \"Hockey\", \"D\": \"Badminton\"}\n",
        "print(len(sports))"
      ]
    },
    {
      "cell_type": "code",
      "execution_count": null,
      "metadata": {
        "id": "tjaCfzoxnRe6"
      },
      "outputs": [],
      "source": [
        "sports = {\"A\": \"Cricket\", \"B\": \"Football\", \"C\": \"Hockey\", \"D\": \"Badminton\"}\n",
        "sports['E'] = 'Kabaddi'\n",
        "print(sports)"
      ]
    },
    {
      "cell_type": "code",
      "execution_count": null,
      "metadata": {
        "id": "9qCEr0LUnRe7"
      },
      "outputs": [],
      "source": [
        "sports = {\"A\": \"Cricket\", \"B\": \"Football\", \"C\": \"Hockey\", \"D\": \"Badminton\", \"E\": \"Kabaddi\"}\n",
        "sports['F'] = 'Volley Ball'\n",
        "print(sports)"
      ]
    },
    {
      "cell_type": "code",
      "execution_count": null,
      "metadata": {
        "id": "nHXRnt7FnRe7"
      },
      "outputs": [],
      "source": [
        "sports = {\"A\": \"Cricket\", \"B\": \"Football\", \"C\": \"Hockey\", \"D\": \"Badminton\", \"E\": \"Kabaddi\", 'F': 'Volley Ball'}\n",
        "del sports['F']\n",
        "print(sports)"
      ]
    },
    {
      "cell_type": "code",
      "execution_count": null,
      "metadata": {
        "id": "a7YvGNqcnRe7"
      },
      "outputs": [],
      "source": [
        "sports = {\"A\": \"Cricket\", \"B\": \"Football\", \"C\": \"Hockey\", \"D\": \"Badminton\", \"E\": \"Kabaddi\"}\n",
        "print(list(sports.keys()))"
      ]
    },
    {
      "cell_type": "code",
      "execution_count": null,
      "metadata": {
        "id": "5jnduhGBnRe7"
      },
      "outputs": [],
      "source": [
        "sports = {\"A\": \"Cricket\", \"B\": \"Football\", \"C\": \"Hockey\", \"D\": \"Badminton\", \"E\": \"Kabaddi\"}\n",
        "print(list(sports.values()))"
      ]
    },
    {
      "cell_type": "code",
      "execution_count": null,
      "metadata": {
        "id": "AncnhhSBnRe7"
      },
      "outputs": [],
      "source": [
        "sports = {\"A\": \"Cricket\", \"B\": \"Football\", \"C\": \"Hockey\", \"D\": \"Badminton\", \"E\": \"Kabaddi\"}\n",
        "print(list(sports.items()))"
      ]
    }
  ],
  "metadata": {
    "kernelspec": {
      "display_name": "Python 3",
      "language": "python",
      "name": "python3"
    },
    "language_info": {
      "codemirror_mode": {
        "name": "ipython",
        "version": 3
      },
      "file_extension": ".py",
      "mimetype": "text/x-python",
      "name": "python",
      "nbconvert_exporter": "python",
      "pygments_lexer": "ipython3",
      "version": "3.7.10"
    },
    "colab": {
      "name": "List-Tuple-String.ipynb",
      "provenance": [],
      "include_colab_link": true
    }
  },
  "nbformat": 4,
  "nbformat_minor": 0
}