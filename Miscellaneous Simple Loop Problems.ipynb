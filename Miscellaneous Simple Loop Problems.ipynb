{
 "cells": [
  {
   "cell_type": "markdown",
   "id": "4ec07b74",
   "metadata": {},
   "source": [
    "#     Q1: TABLE OF A NUMBER\n"
   ]
  },
  {
   "cell_type": "code",
   "execution_count": null,
   "id": "31f88153",
   "metadata": {},
   "outputs": [],
   "source": [
    "n=int(input(\"Please enter a number:\"))\n",
    "for i in range(1,11):\n",
    "    print(n,\"x\",i,\"=\",(n*i))"
   ]
  },
  {
   "cell_type": "markdown",
   "id": "f793b012",
   "metadata": {},
   "source": [
    "# SUM OF n Natural Numbers "
   ]
  },
  {
   "cell_type": "code",
   "execution_count": 5,
   "id": "2bdae6c9",
   "metadata": {},
   "outputs": [
    {
     "name": "stdout",
     "output_type": "stream",
     "text": [
      "Please enter a number:100\n",
      "Sum of first  100  natural numbers is= 5050\n"
     ]
    }
   ],
   "source": [
    "n=int(input(\"Please enter a number:\"))\n",
    "sum=0\n",
    "for i in range(n+1):\n",
    "    sum+=i\n",
    "    \n",
    "print(\"Sum of first \",n,\" natural numbers is=\",sum)"
   ]
  },
  {
   "cell_type": "markdown",
   "id": "d550d7e4",
   "metadata": {},
   "source": [
    "# FACTORIAL OF A NUMBER"
   ]
  },
  {
   "cell_type": "code",
   "execution_count": 9,
   "id": "4c2c3ff3",
   "metadata": {},
   "outputs": [
    {
     "name": "stdout",
     "output_type": "stream",
     "text": [
      "Please enter a number:4\n",
      "Factorial= 24\n"
     ]
    }
   ],
   "source": [
    "n=int(input(\"Please enter a number:\"))\n",
    "k=n\n",
    "f=1\n",
    "while k>0:\n",
    "    f=f*k\n",
    "    k-=1\n",
    "    \n",
    "print(\"Factorial=\",f)"
   ]
  },
  {
   "cell_type": "markdown",
   "id": "d6d84368",
   "metadata": {},
   "source": [
    "#    # NATURAL NUMBERS FROM 1 TO n"
   ]
  },
  {
   "cell_type": "code",
   "execution_count": 12,
   "id": "754e69da",
   "metadata": {},
   "outputs": [
    {
     "ename": "SyntaxError",
     "evalue": "invalid syntax (Temp/ipykernel_16740/1961217120.py, line 7)",
     "output_type": "error",
     "traceback": [
      "\u001b[1;36m  File \u001b[1;32m\"C:\\Users\\KIIT\\AppData\\Local\\Temp/ipykernel_16740/1961217120.py\"\u001b[1;36m, line \u001b[1;32m7\u001b[0m\n\u001b[1;33m    total=total+sales[i]\u001b[0m\n\u001b[1;37m    ^\u001b[0m\n\u001b[1;31mSyntaxError\u001b[0m\u001b[1;31m:\u001b[0m invalid syntax\n"
     ]
    }
   ],
   "source": [
    "n=int(input(\"Please enter the upper limit value of range:\"))\n",
    "    \n",
    "    "
   ]
  },
  {
   "cell_type": "code",
   "execution_count": null,
   "id": "a2e962e4",
   "metadata": {},
   "outputs": [],
   "source": []
  }
 ],
 "metadata": {
  "kernelspec": {
   "display_name": "Python 3 (ipykernel)",
   "language": "python",
   "name": "python3"
  },
  "language_info": {
   "codemirror_mode": {
    "name": "ipython",
    "version": 3
   },
   "file_extension": ".py",
   "mimetype": "text/x-python",
   "name": "python",
   "nbconvert_exporter": "python",
   "pygments_lexer": "ipython3",
   "version": "3.9.7"
  }
 },
 "nbformat": 4,
 "nbformat_minor": 5
}
